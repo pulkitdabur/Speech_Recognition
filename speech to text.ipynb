{
 "cells": [
  {
   "cell_type": "code",
   "execution_count": 4,
   "metadata": {},
   "outputs": [
    {
     "name": "stdout",
     "output_type": "stream",
     "text": [
      "say something\n",
      "done\n",
      "Goggle think u said Google\n"
     ]
    }
   ],
   "source": [
    "import speech_recognition as sr\n",
    "import webbrowser as wb\n",
    "chrome_path='C:/Program Files (x86)/Google/Chrome/Application/chrome.exe %s'\n",
    "r=sr.Recognizer()\n",
    "\n",
    "with sr.Microphone()as source:\n",
    "    print(\"say something\")\n",
    "    audio=r.listen(source,0,3)\n",
    "    print('done')\n",
    "try:\n",
    "    text=r.recognize_google(audio)\n",
    "    print('Goggle think u said '+text)\n",
    "    f_text='https://www.google.co.in/search?q='+text\n",
    "\n",
    "    wb.get(chrome_path).open(f_text)\n",
    "except Exception as e:\n",
    "    print(e)"
   ]
  },
  {
   "cell_type": "code",
   "execution_count": null,
   "metadata": {},
   "outputs": [],
   "source": [
    "#staticsics maths\n",
    "#linaer algerbra\n",
    "#probability\n",
    "# Machine Learning\n",
    "# reduces human effort\n",
    "# we do algo in this ml\n",
    "# eg:- mail filtering,atm, omr checking,etc\n",
    "#ml 2 parts\n",
    "# supervsied:- we study using algo()\n",
    "# unsuperisied:- doesnt use algo but learn from previous work(deep learning)"
   ]
  }
 ],
 "metadata": {
  "kernelspec": {
   "display_name": "Python 3",
   "language": "python",
   "name": "python3"
  },
  "language_info": {
   "codemirror_mode": {
    "name": "ipython",
    "version": 3
   },
   "file_extension": ".py",
   "mimetype": "text/x-python",
   "name": "python",
   "nbconvert_exporter": "python",
   "pygments_lexer": "ipython3",
   "version": "3.6.5"
  }
 },
 "nbformat": 4,
 "nbformat_minor": 2
}
